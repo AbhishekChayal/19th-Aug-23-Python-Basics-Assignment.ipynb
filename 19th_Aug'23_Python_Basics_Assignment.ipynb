{
  "nbformat": 4,
  "nbformat_minor": 0,
  "metadata": {
    "colab": {
      "provenance": []
    },
    "kernelspec": {
      "name": "python3",
      "display_name": "Python 3"
    },
    "language_info": {
      "name": "python"
    }
  },
  "cells": [
    {
      "cell_type": "code",
      "execution_count": null,
      "metadata": {
        "id": "c5WK9H1mx_2c"
      },
      "outputs": [],
      "source": [
        "TOPIC: Python Basics Variable"
      ]
    },
    {
      "cell_type": "code",
      "source": [
        "'''Assignment no.1\n",
        "Declare two variables, `x` and `y`, and assign them integer values.\n",
        "Swap the values of these variables without using any temporary variable.'''"
      ],
      "metadata": {
        "colab": {
          "base_uri": "https://localhost:8080/",
          "height": 52
        },
        "id": "Nhf0OWjQzyu-",
        "outputId": "59c9d855-e742-4dce-a9c0-961638559097"
      },
      "execution_count": null,
      "outputs": [
        {
          "output_type": "execute_result",
          "data": {
            "text/plain": [
              "'Assignment no.1\\nDeclare two variables, `x` and `y`, and assign them integer values. \\nSwap the values of these variables without using any temporary variable.'"
            ],
            "application/vnd.google.colaboratory.intrinsic+json": {
              "type": "string"
            }
          },
          "metadata": {},
          "execution_count": 3
        }
      ]
    },
    {
      "cell_type": "code",
      "source": [
        "x = 5\n",
        "y = 10\n",
        "\n",
        "x = x + y\n",
        "y = x - y\n",
        "x = x - y\n",
        "\n",
        "print (\"After swapping:\")\n",
        "print(\"x =\", x)\n",
        "print(\"y =\",y)"
      ],
      "metadata": {
        "colab": {
          "base_uri": "https://localhost:8080/"
        },
        "id": "i6-OzJpN14rs",
        "outputId": "256a4426-a7d3-4c2b-94e8-3cd6898055c6"
      },
      "execution_count": null,
      "outputs": [
        {
          "output_type": "stream",
          "name": "stdout",
          "text": [
            "After swapping:\n",
            "x = 10\n",
            "y = 5\n"
          ]
        }
      ]
    },
    {
      "cell_type": "code",
      "source": [
        "'''Create a program that calculates the area of a rectangle. Take the length and width as inputs from the user and store them in variables.\n",
        "Calculate and display the area.'''"
      ],
      "metadata": {
        "colab": {
          "base_uri": "https://localhost:8080/",
          "height": 52
        },
        "id": "QOukqz8s5jzL",
        "outputId": "3a69a022-3d26-435e-f0a2-69efc215d659"
      },
      "execution_count": null,
      "outputs": [
        {
          "output_type": "execute_result",
          "data": {
            "text/plain": [
              "'Create a program that calculates the area of a rectangle. Take the length and width as inputs from the user and store them in variables.\\nCalculate and display the area.'"
            ],
            "application/vnd.google.colaboratory.intrinsic+json": {
              "type": "string"
            }
          },
          "metadata": {},
          "execution_count": 2
        }
      ]
    },
    {
      "cell_type": "code",
      "source": [
        "length = float(input(\"Enter the lenght of the rectangle: \"))\n",
        "width = float (input(\"Enter the width of the rectangle : \"))\n",
        "area = length * width\n",
        "\n",
        "print (\"The area of the rectangle is :\" , area)"
      ],
      "metadata": {
        "colab": {
          "base_uri": "https://localhost:8080/"
        },
        "id": "qWrOJqA2RC2R",
        "outputId": "1a56f4a0-5ab4-4edd-9d83-3dbd6dcb0d15"
      },
      "execution_count": null,
      "outputs": [
        {
          "output_type": "stream",
          "name": "stdout",
          "text": [
            "Enter the lenght of the rectangle: 5\n",
            "Enter the width of the rectangle : 5\n",
            "The area of the rectangle is : 25.0\n"
          ]
        }
      ]
    },
    {
      "cell_type": "code",
      "source": [
        "'''Write a Python program that converts temperatures from Celsius to Fahrenheit. Take the temperature in Celsius as input, store it in a variable,\n",
        "convert it to Fahrenheit, and display the result.'''"
      ],
      "metadata": {
        "colab": {
          "base_uri": "https://localhost:8080/",
          "height": 52
        },
        "id": "f3sPOdGRR41Q",
        "outputId": "f7b349ae-f739-48b2-c615-8152c63c9fd9"
      },
      "execution_count": null,
      "outputs": [
        {
          "output_type": "execute_result",
          "data": {
            "text/plain": [
              "'Write a Python program that converts temperatures from Celsius to Fahrenheit. Take the temperature in Celsius as input, store it in a variable,\\nconvert it to Fahrenheit, and display the result.'"
            ],
            "application/vnd.google.colaboratory.intrinsic+json": {
              "type": "string"
            }
          },
          "metadata": {},
          "execution_count": 7
        }
      ]
    },
    {
      "cell_type": "code",
      "source": [
        "celsius = float (input(\"enter temperature \\ in celsius: \"))\n",
        "Fahrenheit = (celsius * 1.8) + 32\n",
        "print (str(celsius )+ \"degree celcius\\ is equal to \" + str(Fahrenheit )+ \" degree Fahrenheit. \")"
      ],
      "metadata": {
        "colab": {
          "base_uri": "https://localhost:8080/"
        },
        "id": "EmuwnzDGTYPa",
        "outputId": "ad5cd8e1-db2b-4dd8-b2f0-71f5b3a3b654"
      },
      "execution_count": null,
      "outputs": [
        {
          "output_type": "stream",
          "name": "stdout",
          "text": [
            "enter temperature \\ in celsius: 39\n",
            "39.0degree celcius\\ is equal to 102.2 degree Fahrenheit. \n"
          ]
        }
      ]
    },
    {
      "cell_type": "code",
      "source": [
        "TOPIC: String Based Questions"
      ],
      "metadata": {
        "id": "zuhvfvmdduoy"
      },
      "execution_count": null,
      "outputs": []
    },
    {
      "cell_type": "code",
      "source": [
        "'''Write a Python program that takes a string as input and prints the length of the string.'''"
      ],
      "metadata": {
        "id": "hYNiN1wCdvtx"
      },
      "execution_count": null,
      "outputs": []
    },
    {
      "cell_type": "code",
      "source": [
        "# Python code to demonstrate the string length\n",
        "#using len\n",
        "str = \"Abhishek\"\n",
        "print(len(str))"
      ],
      "metadata": {
        "colab": {
          "base_uri": "https://localhost:8080/"
        },
        "id": "9allIbOVgFhV",
        "outputId": "c2c31ce1-f4b9-450d-a4d9-90ee983745ae"
      },
      "execution_count": null,
      "outputs": [
        {
          "output_type": "stream",
          "name": "stdout",
          "text": [
            "8\n"
          ]
        }
      ]
    },
    {
      "cell_type": "code",
      "source": [
        "'''Create a program that takes a sentence from the user and counts the number of vowels (a, e, i, o, u) in the string.'''"
      ],
      "metadata": {
        "id": "wmg_OzFAgqM-"
      },
      "execution_count": null,
      "outputs": []
    },
    {
      "cell_type": "code",
      "source": [
        "string = \"Delhicapitals\"\n",
        "vowels = \"aeiouAEIOU\"\n",
        "\n",
        "count = sum (string.count(vowel)for vowel in vowels)\n",
        "print (count)"
      ],
      "metadata": {
        "colab": {
          "base_uri": "https://localhost:8080/"
        },
        "id": "BQCK3U61g5ks",
        "outputId": "ea05075f-e7b7-4475-b32f-c79a6883e9e3"
      },
      "execution_count": null,
      "outputs": [
        {
          "output_type": "stream",
          "name": "stdout",
          "text": [
            "5\n"
          ]
        }
      ]
    },
    {
      "cell_type": "code",
      "source": [
        "'''Given a string, reverse the order of characters using string slicing and print the reversed string."
      ],
      "metadata": {
        "id": "6cUNPiqkifiG"
      },
      "execution_count": null,
      "outputs": []
    },
    {
      "cell_type": "code",
      "source": [
        "# Function to reverse a string\n",
        "def reverse (string):\n",
        " string = string [::-1]\n",
        " return string\n",
        "\n",
        "s = \"delhicapitals\"\n",
        "\n",
        "print(\"the original string is : \", end = \"\")\n",
        "print(s)\n",
        "\n",
        "print(\"The reverse string(using extended slice syntax) is : \", end=\"\")\n",
        "print(reverse(s))"
      ],
      "metadata": {
        "colab": {
          "base_uri": "https://localhost:8080/"
        },
        "id": "t7PL-vfX9yOZ",
        "outputId": "01b2dac2-6657-4623-8194-50c0abf281a0"
      },
      "execution_count": null,
      "outputs": [
        {
          "output_type": "stream",
          "name": "stdout",
          "text": [
            "the original string is : delhicapitals\n",
            "The reverse string(using extended slice syntax) is : slatipacihled\n"
          ]
        }
      ]
    },
    {
      "cell_type": "code",
      "source": [
        "'''Write a program that takes a string as input and checks if it is a palindrome (reads the same forwards and backwards).'''"
      ],
      "metadata": {
        "id": "YlSAB68_BQzq"
      },
      "execution_count": null,
      "outputs": []
    },
    {
      "cell_type": "code",
      "source": [
        "     #  function which return reverse of a string\n",
        "\n",
        "     def  isPalindrome(s):\n",
        "         return s == s[::-1]\n",
        "\n",
        "\n",
        "     # Driver code\n",
        "     s = \"malayalam\"\n",
        "     ans = isPalindrome(s)\n",
        "\n",
        "     if ans :\n",
        "        print(\"Yes\")\n",
        "     else:\n",
        "        print(\"No\")"
      ],
      "metadata": {
        "colab": {
          "base_uri": "https://localhost:8080/"
        },
        "id": "Bb69qvWXBaPq",
        "outputId": "76233639-b7f7-456a-f5ed-0b482876582d"
      },
      "execution_count": null,
      "outputs": [
        {
          "output_type": "stream",
          "name": "stdout",
          "text": [
            "Yes\n"
          ]
        }
      ]
    },
    {
      "cell_type": "code",
      "source": [
        "Write a program that takes a string as input and checks if it is a palindrome (reads the same forwards and backwards)."
      ],
      "metadata": {
        "id": "GXJI9C4zLtmd"
      },
      "execution_count": null,
      "outputs": []
    },
    {
      "cell_type": "code",
      "source": [
        "# function which return reverse of a string\n",
        "\n",
        "def isPalindrome(s):\n",
        "    return s == s[::-1]\n",
        "\n",
        "\n",
        "# Driver code\n",
        "s = \"1231\"\n",
        "ans = isPalindrome(s)\n",
        "\n",
        "if ans:\n",
        "    print(\"Yes\")\n",
        "else:\n",
        "    print(\"No\")"
      ],
      "metadata": {
        "colab": {
          "base_uri": "https://localhost:8080/"
        },
        "id": "pxqetLAZCKpR",
        "outputId": "0bb2829c-7b4f-4c43-c6ec-ba0b89e50205"
      },
      "execution_count": 2,
      "outputs": [
        {
          "output_type": "stream",
          "name": "stdout",
          "text": [
            "No\n"
          ]
        }
      ]
    },
    {
      "cell_type": "code",
      "source": [
        "'''Create a program that takes a string as input and removes all the spaces from it. Print the modified string without spaces.'''"
      ],
      "metadata": {
        "id": "e9ida6_maIiY"
      },
      "execution_count": null,
      "outputs": []
    },
    {
      "cell_type": "code",
      "source": [
        "input_string  = input(\"Enter a string: \")\n",
        "modified_string=\"\"\n",
        "for char in input_string :\n",
        "  if char != \" \":\n",
        "   modified_string +=char\n",
        "   print(\" Modified string without spaces:\", modified_string)"
      ],
      "metadata": {
        "id": "Dr9VQPFVh3sI",
        "colab": {
          "base_uri": "https://localhost:8080/"
        },
        "outputId": "d0726f4b-53a0-4d2c-c84e-3ef7cd013a1f"
      },
      "execution_count": 16,
      "outputs": [
        {
          "output_type": "stream",
          "name": "stdout",
          "text": [
            "Enter a string: hello\n",
            " Modified string without spaces: h\n",
            " Modified string without spaces: he\n",
            " Modified string without spaces: hel\n",
            " Modified string without spaces: hell\n",
            " Modified string without spaces: hello\n"
          ]
        }
      ]
    },
    {
      "cell_type": "code",
      "source": [],
      "metadata": {
        "id": "_Gk_DMXRMycI"
      },
      "execution_count": null,
      "outputs": []
    }
  ]
}